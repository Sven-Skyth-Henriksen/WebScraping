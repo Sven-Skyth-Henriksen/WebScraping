{
 "cells": [
  {
   "cell_type": "code",
   "execution_count": 1,
   "id": "d174605f",
   "metadata": {},
   "outputs": [
    {
     "name": "stdout",
     "output_type": "stream",
     "text": [
      "Setup complet !\n"
     ]
    }
   ],
   "source": [
    "import pandas as pd\n",
    "import numpy as np\n",
    "\n",
    "\n",
    "import requests\n",
    "from bs4 import BeautifulSoup\n",
    "print('Setup complet !')"
   ]
  },
  {
   "cell_type": "code",
   "execution_count": 2,
   "id": "8096b849",
   "metadata": {},
   "outputs": [
    {
     "name": "stdout",
     "output_type": "stream",
     "text": [
      "3492\n"
     ]
    }
   ],
   "source": [
    "#main link \n",
    "baseurl = 'https://www.bodylab24.de/'\n",
    "\n",
    "#header to avoid to get blocked from the webside\n",
    "headers = {\n",
    "    'User-Agent':'Mozilla/5.0 (Windows NT 10.0; Win64; x64) AppleWebKit/537.36 (KHTML, like Gecko) Chrome/90.0.4430.212 Safari/537.36'\n",
    "}\n",
    "\n",
    "productlinks = []\n",
    "\n",
    "for x in range(1,38):\n",
    "    r = requests.get(f'https://www.bodylab24.de/sportnahrung.html?p={x}#ref=nav_sportnahrung')\n",
    "    \n",
    "    soup = BeautifulSoup(r.content, 'lxml')\n",
    "    \n",
    "    #the main container\n",
    "    productlist = soup.find_all('article', class_='hit')\n",
    "    \n",
    "    #getting the links from all the products of the first page\n",
    "    for item in productlist:\n",
    "        for link in item.find_all('a', href = True):\n",
    "            productlinks.append(baseurl + link['href'])\n",
    "\n",
    "print(len(productlinks))"
   ]
  },
  {
   "cell_type": "code",
   "execution_count": null,
   "id": "c6a023c7",
   "metadata": {
    "scrolled": false
   },
   "outputs": [],
   "source": [
    "#product informations \n",
    "\n",
    "#testlink = 'https://www.bodylab24.de/100-whey-gold-standard-908g.html'\n",
    "\n",
    "sup_list = []\n",
    "for link in productlinks:\n",
    "    r = requests.get(link, headers=headers)\n",
    "    soup = BeautifulSoup(r.content, 'lxml')\n",
    "    \n",
    "    # handling none values and scraping the content\n",
    "    try:\n",
    "        name = soup.find('h1', class_='product-details-page__title').text.strip()\n",
    "        rating = soup.find('span', class_='average-value').text.strip()\n",
    "        ingredients = soup.find('dd', class_='ingredients').text.strip()\n",
    "        price = soup.find('strong', class_='price-box__special-price').text.strip()\n",
    "        producer = soup.find('div',class_='product-meta__item product-meta__manufacturer').text.strip()\n",
    "        #flavor = soup.find('select', class_='super-attribute-select').text.strip()\n",
    "        #flavour output is 'choose option'\n",
    "        \n",
    "        \n",
    "    except:\n",
    "        name = np.nan\n",
    "        rating = np.nan\n",
    "        ingredients = np.nan\n",
    "        about = np.nan\n",
    "        price = np.nan\n",
    "    \n",
    "    product_dic = {\n",
    "    'name': name,\n",
    "    'rating': rating,\n",
    "    'ingredients': ingredients,\n",
    "    'flavor':flavor,\n",
    "    'price':price\n",
    "    }\n",
    "\n",
    "    sup_list.append(product_dic)\n",
    "    print('Saving: ',product_dic['name'])\n",
    "    \n",
    "df = pd.DataFrame(sup_list)\n",
    "df.head()\n",
    "\n"
   ]
  },
  {
   "cell_type": "code",
   "execution_count": 4,
   "id": "5d6233b8",
   "metadata": {},
   "outputs": [
    {
     "ename": "NameError",
     "evalue": "name 'df' is not defined",
     "output_type": "error",
     "traceback": [
      "\u001b[0;31m---------------------------------------------------------------------------\u001b[0m",
      "\u001b[0;31mNameError\u001b[0m                                 Traceback (most recent call last)",
      "\u001b[0;32m<ipython-input-4-d4b167be9db4>\u001b[0m in \u001b[0;36m<module>\u001b[0;34m\u001b[0m\n\u001b[0;32m----> 1\u001b[0;31m \u001b[0mdf\u001b[0m\u001b[0;34m.\u001b[0m\u001b[0mto_csv\u001b[0m\u001b[0;34m(\u001b[0m\u001b[0;34m'supplements.csv'\u001b[0m\u001b[0;34m,\u001b[0m \u001b[0mindex\u001b[0m \u001b[0;34m=\u001b[0m \u001b[0;32mFalse\u001b[0m\u001b[0;34m)\u001b[0m\u001b[0;34m\u001b[0m\u001b[0;34m\u001b[0m\u001b[0m\n\u001b[0m",
      "\u001b[0;31mNameError\u001b[0m: name 'df' is not defined"
     ]
    }
   ],
   "source": [
    "df.to_csv('supplements.csv', index = False)"
   ]
  }
 ],
 "metadata": {
  "kernelspec": {
   "display_name": "Python 3.8.8 64-bit ('Work': conda)",
   "language": "python",
   "name": "python388jvsc74a57bd0a39c75215214a0c56e27045d7dad723d3913eeb2c88109ae83ee6a2d98838bf1"
  },
  "language_info": {
   "codemirror_mode": {
    "name": "ipython",
    "version": 3
   },
   "file_extension": ".py",
   "mimetype": "text/x-python",
   "name": "python",
   "nbconvert_exporter": "python",
   "pygments_lexer": "ipython3",
   "version": "3.8.8"
  },
  "metadata": {
   "interpreter": {
    "hash": "a39c75215214a0c56e27045d7dad723d3913eeb2c88109ae83ee6a2d98838bf1"
   }
  }
 },
 "nbformat": 4,
 "nbformat_minor": 5
}
